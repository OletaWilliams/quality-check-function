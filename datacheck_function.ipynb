{
 "cells": [
  {
   "cell_type": "code",
   "execution_count": 3,
   "metadata": {},
   "outputs": [],
   "source": [
    "import pandas as pd\n",
    "import numpy as np\n",
    "import json\n",
    "from app_store_scraper import AppStore"
   ]
  },
  {
   "cell_type": "code",
   "execution_count": null,
   "metadata": {},
   "outputs": [],
   "source": [
    "balance = AppStore(country='us', app_name='balance-meditation-sleep', app_id = '1361356590')\n",
    "balance.review(how_many=2000)"
   ]
  },
  {
   "cell_type": "code",
   "execution_count": null,
   "metadata": {},
   "outputs": [],
   "source": [
    "balance.reviews"
   ]
  },
  {
   "cell_type": "code",
   "execution_count": null,
   "metadata": {},
   "outputs": [],
   "source": [
    "balance_df = pd.DataFrame(balance.reviews)\n",
    "balance_df.head()"
   ]
  },
  {
   "cell_type": "code",
   "execution_count": 7,
   "metadata": {},
   "outputs": [],
   "source": [
    "#check data quality function and load into postgres table.\n",
    "def data_qual_checks(df):\n",
    "    \"\"\"\n",
    "    preloading checks\n",
    "    \"\"\"\n",
    "    check_results = {\n",
    "        'missing_reviews_count': len(df[df['review'].isnull()]),\n",
    "        'missing_ratings_count': len(df[df['rating'].isnull()]),\n",
    "        'invalid_ratings_count': len(df[(df['rating'] < 1) | (df['rating'] > 5)])\n",
    "    }\n",
    "\n",
    "    return check_results\n",
    "\n",
    "def load_data_postgres(df, table_name, conn_string):\n",
    "    \"\"\"\n",
    "    load data into PostgresSQL table\n",
    "    conn_string = connection string\n",
    "    \"\"\"\n",
    "    engine = create_engine(conn_string)\n",
    "    df.to_sql(table_name, engine, if_exists='fail', index=False)\n",
    "    print(f'Data successfully loaded into {table_name}')"
   ]
  },
  {
   "cell_type": "code",
   "execution_count": null,
   "metadata": {},
   "outputs": [],
   "source": [
    "data_qual_checks(balance_df)"
   ]
  }
 ],
 "metadata": {
  "kernelspec": {
   "display_name": "Python 3",
   "language": "python",
   "name": "python3"
  },
  "language_info": {
   "codemirror_mode": {
    "name": "ipython",
    "version": 3
   },
   "file_extension": ".py",
   "mimetype": "text/x-python",
   "name": "python",
   "nbconvert_exporter": "python",
   "pygments_lexer": "ipython3",
   "version": "3.11.9"
  }
 },
 "nbformat": 4,
 "nbformat_minor": 2
}
